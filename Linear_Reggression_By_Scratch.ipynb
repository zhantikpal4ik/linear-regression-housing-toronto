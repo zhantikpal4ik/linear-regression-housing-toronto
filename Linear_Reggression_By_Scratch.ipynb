{
  "nbformat": 4,
  "nbformat_minor": 0,
  "metadata": {
    "colab": {
      "provenance": []
    },
    "kernelspec": {
      "name": "python3",
      "display_name": "Python 3"
    },
    "language_info": {
      "name": "python"
    }
  },
  "cells": [
    {
      "cell_type": "markdown",
      "source": [
        "# Toronto Apartment Rent Prediction using Linear Regression\n",
        "This notebook demonstrates a linear regression model implemented from scratch using python and required libraries. The goal is to predict monthly apartment rent in downtown Toronto based solely on apartment size (in square feet). Real-world rental data was manually collected from [Rentals.ca](https://www.rentals.ca/).\n",
        "\n",
        "What we did:\n",
        "- Implemented a linear regression model from scratch\n",
        "- Train it on real-world apartment rent data\n",
        "- Visualize the results using plots\n",
        "- Make a prediction given an input"
      ],
      "metadata": {
        "id": "K6Xi9XlTXguJ"
      }
    },
    {
      "cell_type": "markdown",
      "source": [
        "## Importing Required Libraries"
      ],
      "metadata": {
        "id": "oCc-QtU6PpXG"
      }
    },
    {
      "cell_type": "code",
      "execution_count": 2,
      "metadata": {
        "id": "7TpwFKG8OI-N"
      },
      "outputs": [],
      "source": [
        "import numpy as np\n",
        "import matplotlib.pyplot as plt"
      ]
    },
    {
      "cell_type": "markdown",
      "source": [
        "##Linear regression model implementation from scratch"
      ],
      "metadata": {
        "id": "gUiEP7MPQ0xl"
      }
    },
    {
      "cell_type": "code",
      "source": [
        "class linearRegression:\n",
        "  def __init__(self):\n",
        "    self.weights = None\n",
        "    self.bias = None\n",
        "  def fit(self, X, y, epochs=10000, lr=0.000002):\n",
        "    n_samples = X.shape[0]\n",
        "    self.bias = 0\n",
        "    self.weights = np.zeros(X.shape[1])\n",
        "\n",
        "    for i in range(epochs):\n",
        "      y_pred = X.dot(self.weights) + self.bias\n",
        "      error = y_pred - y\n",
        "      dw = (2/n_samples) * X.T.dot(error)\n",
        "      db = (2/n_samples) * np.sum(error)\n",
        "      self.weights -= lr * dw\n",
        "      self.bias -= lr * db\n",
        "\n",
        "  def predict(self, X):\n",
        "    y_pred = X.dot(self.weights) + self.bias\n",
        "    return y_pred\n",
        "  def MSE(self, y_true, y_pred):\n",
        "    n_samples = len(y_true)\n",
        "    return np.mean((y_true - y_pred) ** 2)\n"
      ],
      "metadata": {
        "id": "YR2dG-4PQ0Wc"
      },
      "execution_count": 3,
      "outputs": []
    },
    {
      "cell_type": "code",
      "source": [
        "sizes = np.array([\n",
        "    356, 342, 342, 371, 371, 416, 482, 500,\n",
        "    705, 705, 713, 665, 884, 884, 878, 884,\n",
        "    880, 884, 884, 509, 444, 463,\n",
        "    745, 700, 546, 498, 745, 801\n",
        "]).reshape(-1, 1)\n",
        "\n",
        "# Corresponding prices in CAD\n",
        "prices = np.array([\n",
        "    1820, 1970, 1990, 2045, 2050, 2195, 2120, 2080,\n",
        "    2405, 2590, 2370, 2355, 2895, 2900, 2975, 3100,\n",
        "    3205, 3285, 3285, 2550, 2565, 2575,\n",
        "    3350, 2950, 2395, 2440, 3350, 3045\n",
        "])\n",
        "lin = linearRegression()\n",
        "lin.fit(sizes, prices)\n",
        "y_pred = lin.predict(sizes)"
      ],
      "metadata": {
        "id": "_MJQcZi_wFfN"
      },
      "execution_count": 4,
      "outputs": []
    },
    {
      "cell_type": "markdown",
      "source": [
        "Let’s say I’m looking for an apartment to rent with my friends, and we're considering a unit that’s around 600 square feet.\n",
        "Let’s use our model to predict the monthly rent for that apartment size."
      ],
      "metadata": {
        "id": "5LOoykeJgtp6"
      }
    },
    {
      "cell_type": "code",
      "source": [
        "lin.predict(np.array([600]))"
      ],
      "metadata": {
        "colab": {
          "base_uri": "https://localhost:8080/"
        },
        "id": "5wu4JcInhKAM",
        "outputId": "d5aff4cb-f695-4a59-c9aa-3fca956eae95"
      },
      "execution_count": 7,
      "outputs": [
        {
          "output_type": "execute_result",
          "data": {
            "text/plain": [
              "np.float64(2372.8095727119844)"
            ]
          },
          "metadata": {},
          "execution_count": 7
        }
      ]
    },
    {
      "cell_type": "markdown",
      "source": [
        "Based on our model, an apartment of 600 sq. ft is estimated to cost approximately \\$2372 per month."
      ],
      "metadata": {
        "id": "u5Os87_BX7M2"
      }
    },
    {
      "cell_type": "markdown",
      "source": [
        "## Plotting the Regression Line"
      ],
      "metadata": {
        "id": "FDZHwNIoMKB5"
      }
    },
    {
      "cell_type": "code",
      "source": [
        "plt.scatter(sizes, prices)\n",
        "plt.plot(sizes, y_pred)\n",
        "plt.ylabel(\"Price in CAD\")\n",
        "plt.xlabel(\"Size in square ft\")\n",
        "plt.show()"
      ],
      "metadata": {
        "colab": {
          "base_uri": "https://localhost:8080/",
          "height": 449
        },
        "id": "_1IDjqmkMMrz",
        "outputId": "767b96cb-0cb9-40e9-91bb-7085a1dbd8b9"
      },
      "execution_count": 5,
      "outputs": [
        {
          "output_type": "display_data",
          "data": {
            "text/plain": [
              "<Figure size 640x480 with 1 Axes>"
            ],
            "image/png": "[encoded data removed]"
          },
          "metadata": {}
        }
      ]
    },
    {
      "cell_type": "markdown",
      "source": [
        "**Observations:**\n",
        "- The model captures the general upward trend: larger apartments typically cost more.\n",
        "- It tends to underestimate rent prices for smaller apartments, likely due to higher price per square foot.\n",
        "- Several larger apartments appear underpriced relative to the model, which could be due to factors like location, amenities, or building age — variables not captured by this simple model.\n",
        "\n"
      ],
      "metadata": {
        "id": "6B5HGI4cf_x3"
      }
    },
    {
      "cell_type": "code",
      "source": [],
      "metadata": {
        "id": "qFDpTTpoqUd-"
      },
      "execution_count": 5,
      "outputs": []
    }
  ]
}